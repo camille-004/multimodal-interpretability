{
 "cells": [
  {
   "cell_type": "code",
   "execution_count": 91,
   "outputs": [],
   "source": [
    "import os\n",
    "import re\n",
    "\n",
    "import pandas as pd\n",
    "\n",
    "import config"
   ],
   "metadata": {
    "collapsed": false,
    "pycharm": {
     "name": "#%%\n"
    }
   }
  },
  {
   "cell_type": "code",
   "execution_count": 97,
   "outputs": [
    {
     "data": {
      "text/plain": "                                               question           answer  \\\n0     what is on the left side of the white oven on ...      garbage_bin   \n1     what is on the left side of the fire extinguis...            table   \n2     what is between the the two white and black ga...            chair   \n3     how many objects are between the fire extingui...                3   \n4            what is the largest object in this picture  washing_machine   \n...                                                 ...              ...   \n5668                 what is found below the chandelier            table   \n5669                               what is on the floor              rug   \n5670                       what are around dining table            chair   \n5671   what is at the opposite side of the dining table  decoration_item   \n5672                    what is behind the wall divider            table   \n\n          image  \n0        image1  \n1        image1  \n2        image1  \n3        image1  \n4        image1  \n...         ...  \n5668  image1448  \n5669  image1449  \n5670  image1449  \n5671  image1449  \n5672  image1449  \n\n[5673 rows x 3 columns]",
      "text/html": "<div>\n<style scoped>\n    .dataframe tbody tr th:only-of-type {\n        vertical-align: middle;\n    }\n\n    .dataframe tbody tr th {\n        vertical-align: top;\n    }\n\n    .dataframe thead th {\n        text-align: right;\n    }\n</style>\n<table border=\"1\" class=\"dataframe\">\n  <thead>\n    <tr style=\"text-align: right;\">\n      <th></th>\n      <th>question</th>\n      <th>answer</th>\n      <th>image</th>\n    </tr>\n  </thead>\n  <tbody>\n    <tr>\n      <th>0</th>\n      <td>what is on the left side of the white oven on ...</td>\n      <td>garbage_bin</td>\n      <td>image1</td>\n    </tr>\n    <tr>\n      <th>1</th>\n      <td>what is on the left side of the fire extinguis...</td>\n      <td>table</td>\n      <td>image1</td>\n    </tr>\n    <tr>\n      <th>2</th>\n      <td>what is between the the two white and black ga...</td>\n      <td>chair</td>\n      <td>image1</td>\n    </tr>\n    <tr>\n      <th>3</th>\n      <td>how many objects are between the fire extingui...</td>\n      <td>3</td>\n      <td>image1</td>\n    </tr>\n    <tr>\n      <th>4</th>\n      <td>what is the largest object in this picture</td>\n      <td>washing_machine</td>\n      <td>image1</td>\n    </tr>\n    <tr>\n      <th>...</th>\n      <td>...</td>\n      <td>...</td>\n      <td>...</td>\n    </tr>\n    <tr>\n      <th>5668</th>\n      <td>what is found below the chandelier</td>\n      <td>table</td>\n      <td>image1448</td>\n    </tr>\n    <tr>\n      <th>5669</th>\n      <td>what is on the floor</td>\n      <td>rug</td>\n      <td>image1449</td>\n    </tr>\n    <tr>\n      <th>5670</th>\n      <td>what are around dining table</td>\n      <td>chair</td>\n      <td>image1449</td>\n    </tr>\n    <tr>\n      <th>5671</th>\n      <td>what is at the opposite side of the dining table</td>\n      <td>decoration_item</td>\n      <td>image1449</td>\n    </tr>\n    <tr>\n      <th>5672</th>\n      <td>what is behind the wall divider</td>\n      <td>table</td>\n      <td>image1449</td>\n    </tr>\n  </tbody>\n</table>\n<p>5673 rows × 3 columns</p>\n</div>"
     },
     "execution_count": 97,
     "metadata": {},
     "output_type": "execute_result"
    }
   ],
   "source": [
    "def prepare_dataset(subset: str = \"train\", interim_dir: str = os.path.join(\"../\", config.INTERIM_DIR)) -> pd.DataFrame:\n",
    "    \"\"\"\n",
    "    Extract all elements from text files to prepare a .csv file with the question, its corresponding answer, and the image it's referring to\n",
    "\n",
    "    :param subset: Subset of all data to prepare\n",
    "    :param interim_dir: Directory in which to save interim data\n",
    "    :return:\n",
    "    \"\"\"\n",
    "    qa_lines = open(os.path.join(\"../\", config.RAW_DIR, f\"{subset}_qa.txt\"), \"r\").readlines()\n",
    "    questions = qa_lines[::2]\n",
    "    answers = qa_lines[1::2]\n",
    "\n",
    "    data = []\n",
    "\n",
    "    for q, a in zip(questions, answers):\n",
    "        row = {}\n",
    "        normalized_q = \"\".join(re.split(r\"\\b(in|on)\\b\", q)[:-2]).strip()\n",
    "        row[\"question\"] = normalized_q\n",
    "        row[\"answer\"] = a.strip()\n",
    "        row[\"image\"] = q.split()[-2]\n",
    "\n",
    "        data.append(row)\n",
    "\n",
    "    df = pd.DataFrame(data)\n",
    "    df.to_csv(os.path.join(interim_dir, f\"{subset}.csv\"))\n",
    "    return df\n",
    "\n",
    "\n",
    "prepare_dataset(\"test\")\n"
   ],
   "metadata": {
    "collapsed": false,
    "pycharm": {
     "name": "#%%\n"
    }
   }
  },
  {
   "cell_type": "code",
   "execution_count": null,
   "outputs": [],
   "source": [],
   "metadata": {
    "collapsed": false,
    "pycharm": {
     "name": "#%%\n"
    }
   }
  }
 ],
 "metadata": {
  "kernelspec": {
   "display_name": "Python 3",
   "language": "python",
   "name": "python3"
  },
  "language_info": {
   "codemirror_mode": {
    "name": "ipython",
    "version": 2
   },
   "file_extension": ".py",
   "mimetype": "text/x-python",
   "name": "python",
   "nbconvert_exporter": "python",
   "pygments_lexer": "ipython2",
   "version": "2.7.6"
  }
 },
 "nbformat": 4,
 "nbformat_minor": 0
}
